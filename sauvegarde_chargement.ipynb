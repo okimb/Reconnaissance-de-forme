{
 "cells": [
  {
   "cell_type": "code",
   "execution_count": null,
   "metadata": {},
   "outputs": [],
   "source": [
    "#!/usr/bin/env python3\n",
    "# -*- coding: utf-8 -*-\n",
    "\"\"\"\n",
    "Created on Mon Nov 25 18:17:47 2019\n",
    "\n",
    "@author: okimb\n",
    "\"\"\"\n",
    "\n",
    "from data_process import *\n",
    "from gbdt_model import gbdt_model, svm, gbdt_model_grid1, gbdt_model_default\n",
    "import numpy as np\n",
    "from sklearn.model_selection import StratifiedShuffleSplit\n",
    "\n",
    "if __name__=='__main__':\n",
    "    model = ['fasttext', 'tfidf', 'tfidf_gridsearch', 'tfidf_best']\n",
    "    # default choose tfidf with best params\n",
    "    method = 'tfidf_best'\n",
    "\n",
    "    if method is model[0]:\n",
    "        with open('./data/x_train.pkl', 'rb') as f:\n",
    "            x_train = pickle.load(f)\n",
    "        with open('./data/x_test.pkl', 'rb') as f:\n",
    "            x_test = pickle.load(f)\n",
    "        with open('./data/y_train.pkl', 'rb') as f:\n",
    "            y_train = pickle.load(f)\n",
    "        with open('./data/y_test.pkl', 'rb') as f:\n",
    "            y_test = pickle.load(f)\n",
    "        gbdt_model_default(x_train, y_train, x_test, y_test)\n",
    "    else:\n",
    "        with open('./data_tfidf/x_train.pkl', 'rb') as f:\n",
    "            x_train = pickle.load(f)\n",
    "        with open('./data_tfidf/x_test.pkl', 'rb') as f:\n",
    "            x_test = pickle.load(f)\n",
    "        with open('./data_tfidf/y_train.pkl', 'rb') as f:\n",
    "            y_train = pickle.load(f)\n",
    "        with open('./data_tfidf/y_test.pkl', 'rb') as f:\n",
    "            y_test = pickle.load(f)\n",
    "\n",
    "        if method is model[1]:\n",
    "            gbdt_model_default(x_train, y_train, x_test, y_test)\n",
    "        elif method is model[2]:\n",
    "            gbdt_model_grid1(x_train, y_train, x_test, y_test)\n",
    "        elif method is model[3]:\n",
    "            gbdt_model(x_train, y_train, x_test, y_test)\n",
    "            \n",
    "    # save model to file\n",
    "    # pickle.dump(model, open(\"pima.pickle.dat\", \"wb\"))       \n",
    "    pickle.dump(method, open(\"docclassifier.pickle.date\", \"wb\"))\n",
    "    \n",
    "    \t\n",
    " \n",
    "    \n",
    "     "
   ]
  },
  {
   "cell_type": "code",
   "execution_count": 1,
   "metadata": {},
   "outputs": [
    {
     "ename": "IndentationError",
     "evalue": "unexpected indent (<ipython-input-1-108d92fc6d25>, line 3)",
     "output_type": "error",
     "traceback": [
      "\u001b[0;36m  File \u001b[0;32m\"<ipython-input-1-108d92fc6d25>\"\u001b[0;36m, line \u001b[0;32m3\u001b[0m\n\u001b[0;31m    loaded_model = pickle.load(open(\"docclassifier.pickle.dat\", \"rb\"))\u001b[0m\n\u001b[0m    ^\u001b[0m\n\u001b[0;31mIndentationError\u001b[0m\u001b[0;31m:\u001b[0m unexpected indent\n"
     ]
    }
   ],
   "source": [
    "   # load model from file\n",
    "    # loaded_model = pickle.load(open(\"pima.pickle.dat\", \"rb\"))\n",
    "    loaded_model = pickle.load(open(\"docclassifier.pickle.dat\", \"rb\"))"
   ]
  },
  {
   "cell_type": "code",
   "execution_count": null,
   "metadata": {},
   "outputs": [],
   "source": []
  }
 ],
 "metadata": {
  "kernelspec": {
   "display_name": "Python 3",
   "language": "python",
   "name": "python3"
  },
  "language_info": {
   "codemirror_mode": {
    "name": "ipython",
    "version": 3
   },
   "file_extension": ".py",
   "mimetype": "text/x-python",
   "name": "python",
   "nbconvert_exporter": "python",
   "pygments_lexer": "ipython3",
   "version": "3.7.3"
  }
 },
 "nbformat": 4,
 "nbformat_minor": 2
}
